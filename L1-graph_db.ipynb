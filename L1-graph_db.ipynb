{
 "cells": [
  {
   "cell_type": "markdown",
   "metadata": {},
   "source": [
    "Neo4j is a graph database. A graph database, instead of having rows and columns has nodes edges and properties.\n",
    "It is more suitable for certain big data and analytics applications than row and column databases or free-form JSON document databases for many use cases.\n",
    "\n",
    "A graph database is used to represent relationships. It is a collection of nodes and edges. Nodes represent entities and edges represent relationships between entities."
   ]
  }
 ],
 "metadata": {
  "language_info": {
   "name": "python"
  }
 },
 "nbformat": 4,
 "nbformat_minor": 2
}
